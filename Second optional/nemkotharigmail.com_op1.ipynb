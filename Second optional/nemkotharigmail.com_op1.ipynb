{
 "cells": [
  {
   "cell_type": "code",
   "execution_count": 1,
   "metadata": {},
   "outputs": [],
   "source": [
    "#Question 1\n",
    "# 1. Write a function that inputs a number and prints the multiplication table of that number"
   ]
  },
  {
   "cell_type": "code",
   "execution_count": 2,
   "metadata": {},
   "outputs": [],
   "source": [
    "def printmultiplicationTable():\n",
    "    try:\n",
    "        num = int(input(\"Enter the number which you want to multiplication table :\" ))\n",
    "        for i in range(1,11):\n",
    "            print(num,'x',i,'=',num*i)\n",
    "    except:\n",
    "        print(\"Plese Enter only number\")\n",
    "    "
   ]
  },
  {
   "cell_type": "code",
   "execution_count": 3,
   "metadata": {},
   "outputs": [
    {
     "name": "stdout",
     "output_type": "stream",
     "text": [
      "Enter the number which you want to multiplication table :28\n",
      "28 x 1 = 28\n",
      "28 x 2 = 56\n",
      "28 x 3 = 84\n",
      "28 x 4 = 112\n",
      "28 x 5 = 140\n",
      "28 x 6 = 168\n",
      "28 x 7 = 196\n",
      "28 x 8 = 224\n",
      "28 x 9 = 252\n",
      "28 x 10 = 280\n"
     ]
    }
   ],
   "source": [
    "printmultiplicationTable() "
   ]
  },
  {
   "cell_type": "code",
   "execution_count": 4,
   "metadata": {},
   "outputs": [],
   "source": [
    "#Question 2\n",
    "# 2. Write a program to print twin primes less than 1000. If two consecutive odd numbers are both prime then they\n",
    "#    are known as twin primes"
   ]
  },
  {
   "cell_type": "code",
   "execution_count": 5,
   "metadata": {},
   "outputs": [],
   "source": [
    "def Twinprime():\n",
    "    prime =[]\n",
    "    for num in range(2,1001):\n",
    "        if num > 1:\n",
    "            for i in range(2,num):\n",
    "                if (num % i) == 0:\n",
    "                    break\n",
    "            else:\n",
    "                prime.append(num)\n",
    "\n",
    "    twins = []\n",
    "    for p1, p2 in zip(prime, prime[1:]):\n",
    "        if p2 - p1 == 2:\n",
    "            twins.append((p1, p2))\n",
    "    print (twins)\n",
    "    "
   ]
  },
  {
   "cell_type": "code",
   "execution_count": 6,
   "metadata": {},
   "outputs": [
    {
     "name": "stdout",
     "output_type": "stream",
     "text": [
      "[(3, 5), (5, 7), (11, 13), (17, 19), (29, 31), (41, 43), (59, 61), (71, 73), (101, 103), (107, 109), (137, 139), (149, 151), (179, 181), (191, 193), (197, 199), (227, 229), (239, 241), (269, 271), (281, 283), (311, 313), (347, 349), (419, 421), (431, 433), (461, 463), (521, 523), (569, 571), (599, 601), (617, 619), (641, 643), (659, 661), (809, 811), (821, 823), (827, 829), (857, 859), (881, 883)]\n"
     ]
    }
   ],
   "source": [
    "Twinprime()"
   ]
  },
  {
   "cell_type": "code",
   "execution_count": 7,
   "metadata": {},
   "outputs": [],
   "source": [
    "#Question 3\n",
    "#Write a program to find out the prime factors of a number. Example: prime factors of 56 -2, 2, 2, 7"
   ]
  },
  {
   "cell_type": "code",
   "execution_count": 8,
   "metadata": {},
   "outputs": [],
   "source": [
    "def primefactors():\n",
    "    try:\n",
    "        num = int(input(\"Enter the number which you want to Prime Factors :\" ))\n",
    "        Origin =num\n",
    "        primefacgtor =[]\n",
    "        for i in range(2,num):\n",
    "            while (num % i == 0):\n",
    "                primefacgtor.append(i)\n",
    "                num = num / i\n",
    "    except:\n",
    "        print(\"Plese Enter only number\")\n",
    "    print( \"Prime Factors of \" ,  Origin  , \" are :---> \" , primefacgtor )\n",
    "        "
   ]
  },
  {
   "cell_type": "code",
   "execution_count": 9,
   "metadata": {},
   "outputs": [
    {
     "name": "stdout",
     "output_type": "stream",
     "text": [
      "Enter the number which you want to Prime Factors :56\n",
      "Prime Factors of  56  are :--->  [2, 2, 2, 7]\n"
     ]
    }
   ],
   "source": [
    "primefactors()"
   ]
  },
  {
   "cell_type": "code",
   "execution_count": 10,
   "metadata": {},
   "outputs": [],
   "source": [
    " #Question 4\n",
    "#Write a program to implement these formulae of permutations and combinations. \n",
    "#Number of permutations of n objects taken r at a time: p(n, r) = n! / (n-r)!.\n",
    "#Number of combinations of n objects taken r at a time is: c(n, r) = n! / (r!*(n-r)!) = p(n,r) / r!\n"
   ]
  },
  {
   "cell_type": "code",
   "execution_count": 11,
   "metadata": {},
   "outputs": [],
   "source": [
    "def Fatorial(num):\n",
    "    fsum = 1\n",
    "    for i in range(1,num +1):\n",
    "        fsum =  fsum * i\n",
    "    return fsum\n",
    "    "
   ]
  },
  {
   "cell_type": "code",
   "execution_count": 12,
   "metadata": {},
   "outputs": [],
   "source": [
    "def perandcom(n,r):\n",
    "    per = Fatorial(n)/Fatorial(n-r)\n",
    "    comb = per/Fatorial(r)\n",
    "    print (\"Permutations of p(\",n,\",\",r,\") is -> \" , per, \" And combinations of C(\",n,\",\", r , \") is -->\" , comb)"
   ]
  },
  {
   "cell_type": "code",
   "execution_count": 13,
   "metadata": {},
   "outputs": [
    {
     "name": "stdout",
     "output_type": "stream",
     "text": [
      "Permutations of p( 5 , 3 ) is ->  60.0  And combinations of C( 5 , 3 ) is --> 10.0\n"
     ]
    }
   ],
   "source": [
    "perandcom(5,3)"
   ]
  },
  {
   "cell_type": "code",
   "execution_count": 14,
   "metadata": {},
   "outputs": [],
   "source": [
    " #Question 5\n",
    "#5. Write a function that converts a decimal number to binary number"
   ]
  },
  {
   "cell_type": "code",
   "execution_count": 15,
   "metadata": {},
   "outputs": [],
   "source": [
    "def decimalToBinary(num):\n",
    "    try:\n",
    "        \n",
    "        if num > 1:\n",
    "            decimalToBinary(num // 2)\n",
    "        print(num % 2, end='')\n",
    "    except:\n",
    "        print(\"Plese Enter only number\")\n",
    "   "
   ]
  },
  {
   "cell_type": "code",
   "execution_count": 16,
   "metadata": {},
   "outputs": [
    {
     "name": "stdout",
     "output_type": "stream",
     "text": [
      "Enter any decimal number:10\n",
      "1010"
     ]
    }
   ],
   "source": [
    "num = int(input(\"Enter any decimal number:\" ))\n",
    "decimalToBinary(num)"
   ]
  },
  {
   "cell_type": "code",
   "execution_count": 17,
   "metadata": {},
   "outputs": [],
   "source": [
    " #Question 6\n",
    "#Write a function cubesum() that accepts an integer and returns the sum of the cubes of \n",
    "#individual digits of that number. \n",
    "#Use this function to make functions PrintArmstrong() and isArmstrong() \n",
    "#to print Armstrong numbers and to find whether is an Armstrong number.\n"
   ]
  },
  {
   "cell_type": "code",
   "execution_count": 19,
   "metadata": {},
   "outputs": [],
   "source": [
    "\n",
    "def cubesum(num):\n",
    "    armsum =0\n",
    "    orginum = num\n",
    "    power =0\n",
    "    while (num > 0 ) :\n",
    "        num = num // 10\n",
    "        power = power +1       \n",
    "        \n",
    "    \n",
    "    while ( orginum > 0):\n",
    "        temp = orginum %10\n",
    "        orginum = orginum // 10\n",
    "        armsum = armsum + temp ** power\n",
    "   \n",
    "    return  armsum\n",
    "\n"
   ]
  },
  {
   "cell_type": "code",
   "execution_count": 20,
   "metadata": {},
   "outputs": [],
   "source": [
    "\n",
    "def isArmstrong(num):\n",
    "    Armstrong = cubesum(num)\n",
    "    if ( Armstrong == num ):\n",
    "        print ( str(num )  + ' is Armstrong Number')\n",
    "    else :\n",
    "         print ( str(num )  + ' not Armstrong Number')\n",
    "    "
   ]
  },
  {
   "cell_type": "code",
   "execution_count": 21,
   "metadata": {},
   "outputs": [
    {
     "name": "stdout",
     "output_type": "stream",
     "text": [
      "Enter the IntgerNumber :164\n",
      "164 not Armstrong Number\n"
     ]
    }
   ],
   "source": [
    "try:\n",
    "    num = int(input(\"Enter the IntgerNumber :\" ))\n",
    "    isArmstrong(num)\n",
    "except:\n",
    "    print(\"Plese Enter only number\")"
   ]
  },
  {
   "cell_type": "code",
   "execution_count": 22,
   "metadata": {},
   "outputs": [],
   "source": [
    " #Question 7\n",
    "#Write a function prodDigits() that inputs a number and returns the product of digits of that number.\n"
   ]
  },
  {
   "cell_type": "code",
   "execution_count": 23,
   "metadata": {},
   "outputs": [],
   "source": [
    "\n",
    "def prodDigits(num):\n",
    "    prd =1\n",
    "    while (num>0):\n",
    "        temp = num%10\n",
    "        prd = prd * temp\n",
    "        num = num //10\n",
    "    return prd"
   ]
  },
  {
   "cell_type": "code",
   "execution_count": 24,
   "metadata": {},
   "outputs": [
    {
     "name": "stdout",
     "output_type": "stream",
     "text": [
      "Enter the IntgerNumber :89\n",
      "Product of number  89 is -->  72\n"
     ]
    }
   ],
   "source": [
    "try:\n",
    "    num = int(input(\"Enter the IntgerNumber :\" ))\n",
    "    product = prodDigits(num)\n",
    "    print ( \"Product of number  \" + str(num) + \" is -->  \" + str(product))\n",
    "except:\n",
    "    print(\"Plese Enter only number\")\n"
   ]
  },
  {
   "cell_type": "code",
   "execution_count": 25,
   "metadata": {},
   "outputs": [],
   "source": [
    " #Question 8\n",
    "#8. If all digits of a number n are multiplied by each other repeating with the product, the one digit number obtained at\n",
    "#last is called the multiplicative digital root of n. The number of times digits need to be multiplied to \n",
    "#reach one digit is called the multiplicative persistance of n. Example: 86 -> 48 -> 32 -> 6 (MDR 6, MPersistence 3)           \n",
    "# 341 -> 12->2           (MDR 2, MPersistence 2) Using the function prodDigits() \n",
    "# of previous exercise write functions MDR() and MPersistence() that input a number and return\n",
    " #its multiplicative digital root and multiplicative persistence respectively\n"
   ]
  },
  {
   "cell_type": "code",
   "execution_count": 27,
   "metadata": {},
   "outputs": [],
   "source": [
    "def MDR(num):\n",
    "    mdr =num\n",
    "    while (  mdr > 9):\n",
    "        mdr = prodDigits(mdr)\n",
    "    return mdr\n",
    "        \n",
    "def MPersistence(num):\n",
    "    product =0\n",
    "    while (  num > 9):\n",
    "        num = prodDigits(num)\n",
    "        if (num > 0) :\n",
    "            product = product +1\n",
    "    return product\n",
    "    "
   ]
  },
  {
   "cell_type": "code",
   "execution_count": 28,
   "metadata": {},
   "outputs": [
    {
     "name": "stdout",
     "output_type": "stream",
     "text": [
      "Enter the IntgerNumber :86\n",
      "Product of number  86 MDR --> 6  MPersistence --> 3\n"
     ]
    }
   ],
   "source": [
    "try:\n",
    "    num = int(input(\"Enter the IntgerNumber :\" ))\n",
    "    mdr = MDR(num)\n",
    "    MPer  = MPersistence(num)\n",
    "    print ( \"Product of number  \" + str(num) +  \" MDR --> \" + str(mdr)  +   \"  MPersistence --> \" + str(MPer))\n",
    "except:\n",
    "    print(\"Plese Enter only number\")\n",
    "    \n"
   ]
  },
  {
   "cell_type": "code",
   "execution_count": null,
   "metadata": {},
   "outputs": [],
   "source": [
    " #Question 9\n",
    "#Write a function sumPdivisors() that finds the sum of proper divisors of a number. \n",
    "#Proper divisors of a number are those numbers by which the number is divisible, \n",
    "#except the number itself.  For example proper divisors of 36 are 1, 2, 3, 4, 6, 9, 18\n"
   ]
  },
  {
   "cell_type": "code",
   "execution_count": 29,
   "metadata": {},
   "outputs": [],
   "source": [
    "def sumPdivisors(number):\n",
    "    divisors =[]\n",
    "    for  i  in range(1,number):\n",
    "        if ( number % i == 0):\n",
    "            #number = number /i\n",
    "            divisors.append(i)\n",
    "    return divisors\n",
    "            "
   ]
  },
  {
   "cell_type": "code",
   "execution_count": 30,
   "metadata": {},
   "outputs": [
    {
     "name": "stdout",
     "output_type": "stream",
     "text": [
      "Enter the IntgerNumber :36\n",
      "36 Divisor are :->[1, 2, 3, 4, 6, 9, 12, 18]\n"
     ]
    }
   ],
   "source": [
    "try:\n",
    "    num = int(input(\"Enter the IntgerNumber :\" ))\n",
    "    divisors = sumPdivisors(num)\n",
    "    print (str(num) + \" Divisor are :->\" + str(divisors))\n",
    "except:\n",
    "    print(\"Plese Enter only number\")"
   ]
  },
  {
   "cell_type": "code",
   "execution_count": 31,
   "metadata": {},
   "outputs": [],
   "source": [
    " #Question 10\n",
    "#A number is called perfect if the sum of proper divisors of that number is equal to the number.\n",
    "#For example 28 is perfect number, since 1+2+4+7+14=28. Write a program to print all the perfect numbers in a given range\n",
    "\n",
    "def perfect(start,end):\n",
    "    perfetnumber =[]    \n",
    "    for i in range(start , end+1):\n",
    "        perf =0 \n",
    "        \n",
    "        for j in range(1,i):\n",
    "            if (i%j == 0):\n",
    "                #print( \"i ---> \" + str(i)  + \" j---> \" + str(j) )\n",
    "                perf = perf + j\n",
    "    \n",
    "        if (i == perf):\n",
    "            perfetnumber.append(i)\n",
    "    return perfetnumber"
   ]
  },
  {
   "cell_type": "code",
   "execution_count": 32,
   "metadata": {},
   "outputs": [
    {
     "name": "stdout",
     "output_type": "stream",
     "text": [
      "Enter the range of number which you want to list of perfect no : Start number 1\n",
      "Enter the end number 1000\n",
      "Perfet number  are :->[6, 28, 496]\n"
     ]
    }
   ],
   "source": [
    "try:\n",
    "    strat = int(input(\"Enter the range of number which you want to list of perfect no : Start number \" ))\n",
    "    endn = int(input(\"Enter the end number \" ))\n",
    "    \n",
    "    perfectnumber = perfect(strat , endn )\n",
    "    if (len(perfectnumber) >0 ):\n",
    "        print (\"Perfet number  are :->\" + str(perfectnumber))\n",
    "    else :\n",
    "        print(\"No Perfet number found\")\n",
    "except:\n",
    "    print(\"Plese Enter only number\")"
   ]
  },
  {
   "cell_type": "code",
   "execution_count": 33,
   "metadata": {},
   "outputs": [],
   "source": [
    " #Question 11\n",
    "#Two different numbers are called amicable numbers if the sum of the proper divisors of each is equal to the other number.\n",
    "#For example 220 and 284 are amicable numbers.\n",
    "#Sum of proper divisors of 220 = 1+2+4+5+10+11+20+22+44+55+110 = 284 \n",
    "#Sum of proper divisors of 284 = 1+2+4+71+142 = 220 Write a function to print pairs of amicable numbers in a range\n"
   ]
  },
  {
   "cell_type": "code",
   "execution_count": 34,
   "metadata": {},
   "outputs": [],
   "source": [
    "def amicable(start,end):\n",
    "    amicablenumber =[]\n",
    "    for i in range (start , end +1):\n",
    "        firstnumber = i\n",
    "        fambi =0 \n",
    "        sambi=0        \n",
    "        for j in range(1,firstnumber):\n",
    "            if (firstnumber%j == 0):\n",
    "                fambi = fambi + j\n",
    "        for j in range(1,fambi):\n",
    "            if (fambi%j == 0):\n",
    "                sambi = sambi + j\n",
    "        if ((sambi == firstnumber ) and (i !=fambi)):\n",
    "            amicablenumber.append((firstnumber,fambi))\n",
    "    return amicablenumber\n",
    " \n"
   ]
  },
  {
   "cell_type": "code",
   "execution_count": 36,
   "metadata": {},
   "outputs": [
    {
     "name": "stdout",
     "output_type": "stream",
     "text": [
      "Enter the range of number which you want to list of Amicable no : Start number 1\n",
      "Enter the end number 220\n",
      "Amicable number  are :->[(220, 284)]\n"
     ]
    }
   ],
   "source": [
    "try:\n",
    "    strat = int(input(\"Enter the range of number which you want to list of Amicable no : Start number \" ))\n",
    "    endn = int(input(\"Enter the end number \" ))\n",
    "    \n",
    "    amicablenumber = amicable(strat , endn )\n",
    "    if (len(amicablenumber) >0 ):\n",
    "        print (\"Amicable number  are :->\" + str(amicablenumber))\n",
    "    else :\n",
    "        print(\"No Amicable number found\")\n",
    "except:\n",
    "    print(\"Plese Enter only number\")"
   ]
  },
  {
   "cell_type": "code",
   "execution_count": 37,
   "metadata": {},
   "outputs": [],
   "source": [
    "#12.Write a program which can filter odd numbers in a list by using filter function\n"
   ]
  },
  {
   "cell_type": "code",
   "execution_count": 38,
   "metadata": {},
   "outputs": [
    {
     "name": "stdout",
     "output_type": "stream",
     "text": [
      "[1, 3, 5, 11, 13]\n"
     ]
    }
   ],
   "source": [
    "List1 = [0, 1, 2, 3,4, 5,6, 8,11, 13] \n",
    "Odd = filter(lambda x: x % 2, List1) \n",
    "print(list(Odd)) \n"
   ]
  },
  {
   "cell_type": "code",
   "execution_count": 39,
   "metadata": {},
   "outputs": [],
   "source": [
    "#13 Write a program which can map() to make a list whose elements are cube of elements in a given list\n"
   ]
  },
  {
   "cell_type": "code",
   "execution_count": 40,
   "metadata": {},
   "outputs": [
    {
     "name": "stdout",
     "output_type": "stream",
     "text": [
      "[64, 125, 216, 343, 10648, 912673, 157464, 238328, 456533, 12167, 389017, 226981]\n"
     ]
    }
   ],
   "source": [
    "li = [4,5,6, 7, 22, 97, 54, 62, 77, 23, 73, 61] \n",
    "final_list = list(map(lambda x: x**3 , li)) \n",
    "print(final_list) "
   ]
  },
  {
   "cell_type": "code",
   "execution_count": null,
   "metadata": {},
   "outputs": [],
   "source": [
    "#14 Write a program which can map() and filter() to make a list whose elements are cube of even number in a given lis\n"
   ]
  },
  {
   "cell_type": "code",
   "execution_count": 41,
   "metadata": {},
   "outputs": [
    {
     "name": "stdout",
     "output_type": "stream",
     "text": [
      "[64, 216, 10648, 157464, 238328]\n"
     ]
    }
   ],
   "source": [
    "li = [4,5,6, 7, 22, 97, 54, 62, 77, 23, 73, 61] \n",
    "final_list = list(filter( lambda y : y % 2==0, map(lambda x: x**3 , li)) )\n",
    "print(final_list) "
   ]
  },
  {
   "cell_type": "code",
   "execution_count": null,
   "metadata": {},
   "outputs": [],
   "source": []
  },
  {
   "cell_type": "code",
   "execution_count": null,
   "metadata": {},
   "outputs": [],
   "source": []
  },
  {
   "cell_type": "code",
   "execution_count": null,
   "metadata": {},
   "outputs": [],
   "source": []
  }
 ],
 "metadata": {
  "kernelspec": {
   "display_name": "Python 3",
   "language": "python",
   "name": "python3"
  },
  "language_info": {
   "codemirror_mode": {
    "name": "ipython",
    "version": 3
   },
   "file_extension": ".py",
   "mimetype": "text/x-python",
   "name": "python",
   "nbconvert_exporter": "python",
   "pygments_lexer": "ipython3",
   "version": "3.7.0"
  }
 },
 "nbformat": 4,
 "nbformat_minor": 2
}
